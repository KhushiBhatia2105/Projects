pickleFile = open("iris_classifier_knn.pkl","rb")

obj = pd.read_pickle(pickleFile)
print (obj)